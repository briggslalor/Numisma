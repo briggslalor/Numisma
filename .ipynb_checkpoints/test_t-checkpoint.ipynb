{
 "cells": [
  {
   "cell_type": "code",
   "execution_count": 54,
   "metadata": {},
   "outputs": [],
   "source": [
    "import os\n",
    "import json\n",
    "from web3 import Web3\n",
    "from pathlib import Path\n",
    "from dotenv import load_dotenv\n",
    "import streamlit as st\n",
    "import streamlit.components.v1 as components\n",
    "import requests\n",
    "import tweepy\n",
    "import config\n",
    "from tweepy.auth import OAuthHandler\n",
    "\n"
   ]
  },
  {
   "cell_type": "code",
   "execution_count": 79,
   "metadata": {},
   "outputs": [],
   "source": [
    "client = tweepy.Client(\n",
    "    consumer_key=config.TWITTER_CONSUMER_KEY,\n",
    "    consumer_secret=config.TWITTER_CONSUMER_SECRET,\n",
    "    access_token=config.TWITTER_ACCESS_TOKEN,\n",
    "    access_token_secret=config.TWITTER_ACCESS_TOKEN_SECRET\n",
    ")"
   ]
  },
  {
   "cell_type": "code",
   "execution_count": 89,
   "metadata": {},
   "outputs": [
    {
     "data": {
      "text/plain": [
       "Response(data=<User id=902926941413453824 name=CZ 🔶 Binance username=cz_binance>, includes={}, errors=[], meta={})"
      ]
     },
     "execution_count": 89,
     "metadata": {},
     "output_type": "execute_result"
    }
   ],
   "source": [
    "# @cz_binance is the founder and CEO of Binance \n",
    "# @MMCrypto is one of the world's elite group of traders\n",
    "# @aantonop is one of the world's foremost trusted educators of Bitcoin\n",
    "\n",
    "client = tweepy.Client(bearer_token=config.TWITTER_BEARER_TOKEN)\n",
    "user = client.get_user(username='cz_binance')\n",
    "#user = client.get_user(username='MMCrypto')\n",
    "#user = client.get_user(username='aantonop')"
   ]
  },
  {
   "cell_type": "code",
   "execution_count": 90,
   "metadata": {},
   "outputs": [
    {
     "name": "stdout",
     "output_type": "stream",
     "text": [
      "Be against war, not the people. I love this Russian. https://t.co/0M2sNmnpRe\n",
      "RT @MythLake2016: @cz_binance #BNB 🚀 https://t.co/7FJ2H5sapu\n",
      "Supply is low, but demand is... hmm https://t.co/5cMpxnuw5x\n",
      "@SydneyIfergan 👍\n",
      "Hello Malaysia. 🇲🇾\n",
      "\n",
      "https://t.co/vsHzHlm7KI\n",
      "@TheMoonCarl yo\n",
      "Everyone has a different world (not just view). Yet, there are still many people trying to force their own worldviews onto you.\n",
      "@zhusu well said.\n",
      ".⁦@LayahHeilpern⁩ did a great job explaining bitcoin in simple to understand terms in her book. Keep up the good work. 👏 https://t.co/OapmHD9klD\n",
      "RT @cz_binance: Things I don't understand. I'd have thought that \"unpredictable geopolitical situation\" would increase demand for crypto. E…\n"
     ]
    }
   ],
   "source": [
    "cz_binance_tweet = client.get_users_tweets('902926941413453824')\n",
    "MMCryto_tweet = client.get_users_tweets('904700529988820992')\n",
    "Andreas_tweet = client.get_users_tweets('1469101279')\n",
    "\n",
    "id = '902926941413453824'\n",
    "\n",
    "tweets = client.get_users_tweets(id=id, tweet_fields=['context_annotations','created_at','geo'])\n",
    "\n",
    "for tweet in tweets.data:\n",
    "    print(tweet)"
   ]
  },
  {
   "cell_type": "code",
   "execution_count": 63,
   "metadata": {},
   "outputs": [
    {
     "name": "stdout",
     "output_type": "stream",
     "text": [
      "id\n",
      "name\n",
      "username\n"
     ]
    }
   ],
   "source": [
    "for user in users.data:\n",
    "    print(user)"
   ]
  },
  {
   "cell_type": "code",
   "execution_count": 59,
   "metadata": {},
   "outputs": [],
   "source": [
    "# if option == 'TWITTER':\n",
    "#      symbol = st.sidebar.text_input(\"Symbol\", value='BTC', max_chars=5)\n",
    "#      r = requests.get(f\"https://api.stockwits.com/api/2/stream/{symbol}.json\")\n",
    "#      data = r.json()\n",
    "# for message in cz_binance_tweet['text']:\n",
    "#st.write(text['user']['avatar_url'])\n",
    "#          st.write(text['user']['username'])\n",
    "#          st.write(text['created_at'])                 \n",
    "#          st.write(message['body'])    "
   ]
  },
  {
   "cell_type": "code",
   "execution_count": 68,
   "metadata": {},
   "outputs": [
    {
     "name": "stdout",
     "output_type": "stream",
     "text": [
      "Tesla Model Y Added to the Fleet of Perry Police Department, NY\n",
      "\n",
      "#Tesla \n",
      "https://t.co/2ZoxgA5mvR\n",
      "21 thoughts from 2021 I'd like to take into 2022: https://t.co/hdHCgGiYVj\n",
      "For all its evil,war sometimes has a tiny silver lining. It can clarify the mind and reboot our ethical compass. It puts less serious things in perspective. It nudges us towards our neighbor and reminds us that our needs and interests are intertwined. It reignites our compassion.\n",
      "Tesla continues Cybertruck tests around the Fremont Factory\n",
      "https://t.co/2zBpIRbeDF by @Writer_01001101\n",
      "Kanye hanging out with @elonmusk at the SpaceX rocket factory back in 2011 https://t.co/tETB067dot\n",
      "Deimos - the gateway to Mars.\n",
      "\n",
      "- @NASASpaceflight https://t.co/Lz8xGmzc8X\n",
      "One could argue not much has changed at SpaceX in the last 20 years... 😉 @elonmusk \n",
      "\n",
      "So cool to see SpaceX engaging with the local community and participating in Charro Day festivities! 🚀 \n",
      "\n",
      "📸 @VictoriaLee_16 https://t.co/fc0cJvLzap\n",
      "SpaceX has become a bastion of Western human spaceflight amid Russian invasion and threats https://t.co/gmLXrfLBtz by @13ericralph31\n",
      ".@kanyewest and @elonmusk chillin https://t.co/1qL6WVD94l\n",
      "Starting Monday, Tesla Superchargers in parts of Poland, Slovakia, and Hungary will be free in order to help evacuate refugees from Ukraine. https://t.co/kEzXMAXhgf\n",
      "Tesla Model Y is https://t.co/pFPWCTCAcV's best EV of 2022. \n",
      "@elonmusk \n",
      "\n",
      "\"Tesla is an electric car innovator, and the Model Y reflects that leadership with its efficiency, charging capability, range, and options.\"\n",
      "\n",
      "https://t.co/YOEchuWeRQ\n",
      "“The Model S Plaid Motor is Magic” @live_munro said. @elonmusk https://t.co/tae4Dw6R1b\n",
      "🥳 @SpaceX is one of the sponsors of Brownsville's 2022 Charro Days festivities. The company provided free rides for all kids at Sombrero Fest! Super cool @elonmusk! https://t.co/h4ETajAiuR\n",
      "SpaceX Float at Charro Days in Brownsville was epic! @elonmusk \n",
      "📷 @JaneidyEve https://t.co/zQonYLk2Iy\n",
      "thanx, appreciate it https://t.co/OWm2Yu2WKC\n",
      "The sound of a giant xylophone in a tranquil forest \n",
      "\n",
      "Hundreds of different sized pieces of wood, each producing a distinct note when struck by a wooden ball \n",
      "\n",
      "Playing Bach's \"Jesu, Joy of Man's Desiring\" \n",
      "https://t.co/Vib9q6Q6eV\n",
      "Go anywhere in the world in less than a hour 😲\n",
      "\n",
      "@elonmusk Starship is a game changer https://t.co/blCNhGtRs3\n",
      "“Why do you think Tesla succeeded while others failed in the method of ?”\n",
      "@elonmusk says “Tesla is a hardcore engineering company.”\n",
      " https://t.co/AFPhBxP7Wi\n",
      "Tesla makes the best cars in the World\n",
      "@elonmusk\n",
      "Source https://t.co/ULxGW1kMTA https://t.co/r10Pnwoa4E\n",
      "SpaceX's completely autonomous droneship, A Shortfall of Gravitas. @elonmusk https://t.co/eKvNZuSZ6q\n",
      "I'm going to leave this here. #plaid is a beast @elonmusk. https://t.co/EYw8y19Wlx\n",
      "@elonmusk @tes1m211 @Rogozin https://t.co/uON0xQD6wp\n",
      "@elonmusk @Space_Pete Dragon totally rocks! https://t.co/v2W8rwSQAx\n",
      "@elonmusk @Rogozin And a thread on how it could be done:\n",
      "https://t.co/eOfsC3ZeoT\n",
      "@elonmusk @Rogozin “If you block cooperation with us, who will save the ISS from an uncontrolled deorbit and fall into the United States &amp; Europe”\n",
      "\n",
      "I think Elon is referring to this above (translation provided by Twitter). \n",
      "\n",
      "So Elon answered: SpaceX\n",
      "@paulg sanctimony and outrage is modern currency\n",
      "This story is awesome ⁦@elonmusk⁩ - he sold the house back to Wilder’s nephew. They couldn’t afford the house. He lowered the price by$3 mil and lent them the money to buy it. So cool of you Elon. Love this story. #tesla $tsla  https://t.co/UxdnNG5eBx\n",
      "SpaceX launched 50 new Starlink satellites on Feb. 25, 2022. The first stage of the Falcon 9 landed on the \"Of Course I Still Love You\" drone ship in the Pacific Ocean. Good chance to watch the Earth as it should be: peaceful and beautiful [coverage: https://t.co/6hs8sEpltp] https://t.co/edAWMQUUhb\n",
      "Liftoff! https://t.co/PRsWmp31ap\n",
      "Falcon 9’s first stage has landed on the Of Course I Still Love You droneship\n",
      "After today I just want to take a moment and say that I appreciate that NASA is run by adults; not just adults, but reasonable people who generally try to do the right thing, in a professional way, for the good of the country. So, thank you.\n",
      "@thesheetztweetz @ulalaunch @torybruno @SpaceX @elonmusk \"if you see a pallet of cash, 60million dollars, falling from space, would you try to catch it?\"\n",
      "-Elon Musk\n",
      "https://t.co/3rACpNdqmr\n",
      "“If you go back a few hundred years, what we take for granted today would seem like magic — being able to talk to people over long distances, to transmit images, flying, accessing vast amounts of data…” - @elonmusk\n",
      "@elonmusk @moxie Signal is the highest-regarded communication mechanism in the Security space by professionals and cryptographers. The weakest part are the devices and people on each side of the conversation, not the application itself.\n",
      "A Shortfall of Gravitas returning with her first booster (1061.4) catch! https://t.co/gXji0Ec62r\n",
      "@elonmusk More info here:\n",
      "https://t.co/08Zbypro0P\n",
      "https://t.co/FJk990tHXN\n",
      "https://t.co/nOpAB2qghy\n",
      "\n",
      "…and much more on the blog. You can also see the data Signal has access to in subpoena responses here:\n",
      "\n",
      "https://t.co/cq69Od7nCb\n",
      "Alaska’s Kenai Peninsula will no longer rely on gas turbines to distribute power to the community up to 4 months/year. Homer Electric installed 37 Tesla Megapacks, providing grid stability even in freezing temperatures of -30°F @TeslaCharging @elonmusk @Tesla https://t.co/TzlJGglofT\n",
      "Government of Tonga Thanks SpaceX For Providing Starlink Internet After Volcano Destroyed Fiber-optic Communications\n",
      "\n",
      "https://t.co/T55DWSWUON\n",
      "SpaceX rig Deimos is confirmed to shortly be relocating from the Port of Brownsville to the Port of Pascagoula for 'retrofit', per port manifest. @NASASpaceflight \n",
      "\n",
      "Expected arrival on March 6th. Photo from @thejackbeyer https://t.co/QlYtmzpIap\n",
      "Tesla is always trying to improve, trying to make vehicles safer. Using the best engineering processes possible to do so, thank you ⁦@Tesla⁩ ⁦@elonmusk⁩\n",
      "\n",
      "Tesla patent highlights the safety aspects of the front &amp; rear single-piece Giga Castings https://t.co/jaSR91LYTy\n",
      "I keep thinking about this today https://t.co/nztgxuqtOn\n",
      "Model X Plaid absolutely destroys a Porsche 992 Turbo S in the quarter mile!   Crazy how a 6 seater SUV can destroy supercars on the drag strip! @elonmusk #Tesla #ModelX\n",
      "Video by @DragTimes https://t.co/cI6l3tXnXO\n",
      "- @EvaFoxU is my co-worker at @Tesmanian_com. She writes about Tesla and other related subjects. I really hope she finds a safe place. 😢🙏  @elonmusk \n",
      "https://t.co/q88pUh6qwr\n",
      "@SawyerMerritt \"There’s a perniciously false effective markets argument made for shorting. But it’s vice disguised as virtue.\" - @elonmusk https://t.co/nrPq5KrsEr\n",
      "Tesla's Plaid motors are unlike anything Sandy Munro of @live_munro has ever seen before, and he thinks they are going to be on the motors @elonmusk uses on the $TSLA Cybertruck.\n",
      "\n",
      "Catch the whole interview on My Tesla Weekend @4Kpodcast:\n",
      "https://t.co/kXl74edYle https://t.co/equVlhppEF\n",
      "Tesla Model 3, Model Y rank among IIHS’ 2022 Top Safety Pick+ winners\n",
      "https://t.co/f3qu6SupmG by @Writer_01001101\n",
      "Sandy Munro discusses the revolutionary aspects of the Tesla Plaid Electric Motor \n",
      "\n",
      "@elonmusk #MyTeslaWeekend https://t.co/luKQzWCzKu\n",
      "无畏 Fearless, 才有为 Talented!\n",
      "Tesla 2022 Spring Campus Recruitment Officially Launched in China!\n",
      "\n",
      "“You could either watch it happen or be part of it.” @elonmusk\n",
      "\n",
      "Join the campus recruitment or apply at https://t.co/3v5Ev6LhcP https://t.co/f7skrLGeIE\n",
      "“Too often,sophisticated hedge funds have used short selling and complex derivatives to take advantage of small investors.They will short a company, conduct a negative publicity campaign to drive the stock price down temporarily and cash out,then do it all over again many times.”\n",
      "“I am greatly encouraged by the Justice Department investigating short sellers,” @elonmusk told CNBC in an email Tuesday. “This is something the SEC should have done, but, curiously, did not.”\n",
      "It is theoretically possible to launch a paper plane from the International Space Station to Earth, without the planes burning up on reentry. An experiment was scheduled in 2009 to prove it, but unfortunately cancelled [read more: https://t.co/c20heDkFHa] https://t.co/iBsGj98yuU\n",
      "\"They will short a company, conduct a negative publicity campaign to drive the stock price down temporarily and cash out, then do it all over again many times. The term for this, as you may be aware, is ’short &amp; distort,” Musk said.\n",
      "Brain activity inadvertently recorded at the moment of death, show a rapid memory retrieval process. \n",
      "\n",
      "If life does flash before you, the huge question for me is, why? \n",
      "\n",
      "More reading and image source https://t.co/opseI1bLal https://t.co/4dXQYnZBq8\n",
      "It says a lot when even #CNBC sees @POTUS' TREATMENT OF #TESLA and @elonmusk as absurd https://t.co/htbexYLgrJ\n",
      "@elonmusk Web4: Neuralink monkey dominating Fortnite  @elonmusk \n",
      "\n",
      "https://t.co/88zruQ0gCZ\n",
      "The person that had the biggest impact on @elonmusk was @kanyewest. Elon at Kanye’s show.  https://t.co/mW2ddRMgj6\n",
      "\"This is just peeling back the first layer of the corruption onion,\" Musk said to us. \"Stay tuned.\"\n",
      "\n",
      "https://t.co/yiaO8WNd9R https://t.co/aNrc8Q2Ir7\n",
      "Tesla Model X Plaid Sets World Record 1/4 Mile Time for SUV at 9.75 Seconds\n",
      "\n",
      "https://t.co/OkUKR7HElN\n",
      "these numbers are from all the way in 2014.\n",
      "\n",
      "in 3 months, ~77 MILLION dogecoins were tipped on just the reddit tip bot, @alexisohanian remembers this time well.\n",
      "\n",
      "dogecoin is BY FAR the most used cryptocurrency for tipping, in the history of cryptocurrency. https://t.co/SA8qxlkxvD\n",
      "It’s true, we love @Tesla &amp; @elonmusk 💚 https://t.co/CbAe5NQPnQ\n",
      "Here’s the origin of the word “meme” explained by @elonmusk 😎\n",
      "\n",
      "“Only the strongest memes survive” \n",
      "\n",
      "#dogecoin #doge https://t.co/KX1OPd5NOO\n",
      "Typical Tesla: take a family SUV and make it the quicker than formula  1 vehicles. 🤯🤯 @elonmusk https://t.co/0SoOnSsOvD\n",
      "Got this message this morning. Made an appt on the Tesla app. Drove to service center. 45 min later left with new battery. $122. Tesla service is amazing @elonmusk ❤️ https://t.co/aL9diaLjdK\n",
      "https://t.co/D1E4Rxi86T\n",
      "Ippitsuryu is an ancient Japanese tradition of creating the flowing, river-like body of the dragon in just a single stroke. In this video, artist Keisuke Teshima shows the mesmerizing balance required by this technique [full video: https://t.co/RvNblanQll] https://t.co/596Idmp3Tq\n",
      "@elonmusk Tau is more efficient than pi yet we still don’t use it - humans are generally afraid of change and ℏ is fundamental to Heisenberg’s uncertainty principle. \n",
      "\n",
      "Aka… let’s stop being scared and start doing things the best way we can\n",
      "Legislators Push To Ban Minecraft Due To Rise In Kids Punching Trees To Acquire Wood https://t.co/WVTAZfKL8F\n",
      "@elonmusk You were born on Tau Day 😉 https://t.co/P0aJu39ufs\n",
      "One of my biggest growth moments as a programmer was realizing that libraries I use are just code, and I could read them directly rather than puzzling it out from the docs.\n",
      "\n",
      "Even today, I am surprised how much faster I move every time I start reading a layer I'm building on.\n",
      "Mornin nerds https://t.co/xz3yUitFR7\n",
      "@elonmusk https://t.co/AZwPcUbvRA\n",
      "@elonmusk https://t.co/6Hv6DTMyfZ\n",
      "Once we're on Mars, humanity will need two calendars. A Mars year is 687 days long, so the Mars calendar would have 23 Earth-length months. To further complicate things, 36 Earth days is 35 Mars days.\n",
      "\n",
      "\"The other planet's date and time\" will be a popular widget on all devices.\n",
      "This is some slick AI. https://t.co/HZX5o6rHEG\n",
      "To understand the danger of aggressively censoring misinformation, imagine your worst political enemies doing so to ideas you hold sacred\n",
      "@elonmusk https://t.co/LBFInx2wTc\n",
      "@elonmusk Password Monster comes out from the TV and eat those without 2FA !! https://t.co/Tz5GmlsQxb\n",
      "@elonmusk I think you’ll love this version, Elon 🤣 https://t.co/lPSbM7oBir\n",
      "make memes, not war\n",
      "SpaceX will display a Starship at the Brownsville South Padre Island International Airport\n",
      "\n",
      "https://t.co/yyngCG586G\n",
      "Tesla Plaid Model X does quarter mile in 9.75 seconds - World record time - six seat SUV ⚡️@elonmusk #tsla #dogecoin \n",
      "cr: drag times / @garyblack00 https://t.co/uZPEVrVFX6\n",
      "Tesla Model Y wins https://t.co/PXZ0g1pPb6's Best Electric Vehicle of 2022 award https://t.co/VrrLin7QkV by @KlenderJoey\n",
      "Pure gold 🪙 https://t.co/6j1kq0o7Vj\n",
      "BREAKING: Tesla Plaid Model X posts a world record quarter mile time (for an SUV) of 9.75 seconds.\n",
      "\n",
      "It went 0-60 mph in a blistering 2.3 seconds. It's amazing that a family SUV that weighs 5,390 lbs (2,445kg) can achieve these numbers! @elonmusk \n",
      "https://t.co/jF76XqAyKZ\n",
      "The landing of the Falcon 9 booster never gets old. It’s doing this autonomously 🤯🤯 @elonmusk https://t.co/KZRPKiOBeb\n",
      "The dish at Starbase, Boca Chica tracked todays second stage after the liftoff of the Starlink 4-8 mission.\n",
      "\n",
      "In case you missed the launch, here is everything you need to know: https://t.co/wNsuyxQK6X\n",
      "\n",
      "You can watch @NASASpaceflight  Starbase LIVE 24/7 at: https://t.co/1udQgXVRlA https://t.co/cCftC1g8fE\n",
      "I didn’t see or hear the motorcyclist coming up behind me (had loud music on), but FSD Beta did\n",
      "\n",
      "It animated the motorcycle approaching behind me on screen to alert me, and then immediately diverted its course to give extra room before following behind the motorcyclist. @elonmusk https://t.co/IMBfDjWFZw\n",
      "Nation's Bernie Supporters Frantically Cobble Together Makeshift Rafts To Paddle To Utopian Cuba https://t.co/lDqQoLRJZH\n",
      ".@elonmusk’s advice on how to learn anything from an old Reddit AMA https://t.co/XcRqM2bPk2\n",
      "@waitbutwhy Seriously, *SERIOUSLY* underrated problem.\n",
      "Falcon 9 B1058-11 earns a -12 designation following a successful landing on the Drone Ship \"A Shortfall Of Gravitas\". https://t.co/GgUzVrk0Fo\n",
      "Spring is here and the garden is growing!\n",
      "\n",
      "- @NASASpaceflight https://t.co/X3o4YqlIni\n",
      "Tesla’s Elon Musk promptly flattens US Senator Warren’s claim that he doesn’t pay taxes\n",
      "https://t.co/Cfc2yOdvwX by @ResidentSponge\n",
      "Falcon 9’s first stage has landed on the A Shortfall of Gravitas droneship\n",
      "CATL Officially Starts Building $440 Million Factory Next to Tesla Giga Shanghai\n",
      "\n",
      "https://t.co/qLVwFMiAbJ\n",
      "When I travel in Europe, people tell me how much they love @Tesla and ask why the American media is so hateful. I say 💵💵💵 #CleanEnergyWillWin 💚💚 https://t.co/IZiA66BTAe\n",
      "@elonmusk @TPostMillennial I've seen that happen many times. https://t.co/7uFKLB59G0\n",
      "Kettleman City is still my favorite supercharger. @elonmusk @tesla team did an amazing job with it. Can’t wait to see more of them. https://t.co/pb80AVuazs\n",
      "Did you know that some savages go straight into the game without tweaking everything and turning motion blur off? Scary, right? https://t.co/DpA5IqijjD\n"
     ]
    }
   ],
   "source": [
    "id = '44196397'\n",
    "\n",
    "tweets = client.get_liked_tweets(id=id, tweet_fields=['context_annotations','created_at','geo'])\n",
    "\n",
    "for tweet in tweets.data:\n",
    "    print(tweet)"
   ]
  },
  {
   "cell_type": "code",
   "execution_count": 61,
   "metadata": {},
   "outputs": [
    {
     "ename": "TypeError",
     "evalue": "'NoneType' object is not iterable",
     "output_type": "error",
     "traceback": [
      "\u001b[0;31m---------------------------------------------------------------------------\u001b[0m",
      "\u001b[0;31mTypeError\u001b[0m                                 Traceback (most recent call last)",
      "\u001b[0;32m<ipython-input-61-0673c51d2683>\u001b[0m in \u001b[0;36m<module>\u001b[0;34m\u001b[0m\n\u001b[1;32m      3\u001b[0m \u001b[0mtweets\u001b[0m \u001b[0;34m=\u001b[0m \u001b[0mclient\u001b[0m\u001b[0;34m.\u001b[0m\u001b[0mget_tweets\u001b[0m\u001b[0;34m(\u001b[0m\u001b[0mids\u001b[0m\u001b[0;34m=\u001b[0m\u001b[0mids\u001b[0m\u001b[0;34m,\u001b[0m \u001b[0mtweet_fields\u001b[0m\u001b[0;34m=\u001b[0m\u001b[0;34m[\u001b[0m\u001b[0;34m'context_annotations'\u001b[0m\u001b[0;34m,\u001b[0m\u001b[0;34m'created_at'\u001b[0m\u001b[0;34m,\u001b[0m\u001b[0;34m'geo'\u001b[0m\u001b[0;34m]\u001b[0m\u001b[0;34m)\u001b[0m\u001b[0;34m\u001b[0m\u001b[0;34m\u001b[0m\u001b[0m\n\u001b[1;32m      4\u001b[0m \u001b[0;34m\u001b[0m\u001b[0m\n\u001b[0;32m----> 5\u001b[0;31m \u001b[0;32mfor\u001b[0m \u001b[0mtweet\u001b[0m \u001b[0;32min\u001b[0m \u001b[0mtweets\u001b[0m\u001b[0;34m.\u001b[0m\u001b[0mdata\u001b[0m\u001b[0;34m:\u001b[0m\u001b[0;34m\u001b[0m\u001b[0;34m\u001b[0m\u001b[0m\n\u001b[0m\u001b[1;32m      6\u001b[0m     \u001b[0mprint\u001b[0m\u001b[0;34m(\u001b[0m\u001b[0mtweet\u001b[0m\u001b[0;34m)\u001b[0m\u001b[0;34m\u001b[0m\u001b[0;34m\u001b[0m\u001b[0m\n",
      "\u001b[0;31mTypeError\u001b[0m: 'NoneType' object is not iterable"
     ]
    }
   ],
   "source": [
    "ids = ['904700529988820992', '902926941413453824', '44196397']\n",
    "\n",
    "tweets = client.get_tweets(ids=ids, tweet_fields=['context_annotations','created_at','geo'])\n",
    "\n",
    "for tweet in tweets.data:\n",
    "    print(tweet)"
   ]
  },
  {
   "cell_type": "code",
   "execution_count": 64,
   "metadata": {},
   "outputs": [
    {
     "name": "stdout",
     "output_type": "stream",
     "text": [
      "1498777818938888199\n",
      "1498780582897143818\n",
      "1498250641604591619\n",
      "929554236064403458\n",
      "1498775589473636352\n",
      "1494171964822405125\n",
      "1498781215091998724\n",
      "4011843434\n",
      "1084530299478913025\n",
      "1433123791413071877\n",
      "1498780243166904320\n",
      "1498779402200653828\n",
      "1496632076430422018\n",
      "1498671676267147264\n",
      "1498174829429723136\n",
      "3115752634\n",
      "1498702460411645953\n",
      "4791371\n",
      "1436227562280263681\n",
      "1474590937523400710\n",
      "1213207315920257024\n",
      "1371509229287260162\n",
      "1313634232774787072\n",
      "112491707\n",
      "1498779416473841671\n",
      "1463066788954984448\n",
      "1339192343048704000\n",
      "1454646676124311553\n",
      "1498779426485682179\n",
      "793986992795025416\n",
      "46003304\n",
      "1408026320521498626\n",
      "1498762919567400961\n",
      "1498777703784357892\n",
      "787322419\n",
      "1498777976283942912\n",
      "1498363622862512134\n",
      "1449089719892074507\n",
      "1473343543053889540\n",
      "1435028011263438851\n",
      "1497570429027774467\n",
      "907174565004169216\n",
      "1076490410363703299\n",
      "1340440818000289792\n",
      "1465480580133376000\n",
      "1478219207934242816\n",
      "1460890854852341762\n",
      "1213442072268533761\n",
      "1433127914082652161\n",
      "924778327667367937\n",
      "195844913\n",
      "1498779228787154950\n",
      "1498778840910512134\n",
      "1498778642431811595\n",
      "1473923930876309512\n",
      "1498779543070412800\n",
      "886946405516021761\n",
      "961964034407874560\n",
      "1498774892292055042\n",
      "1489815287314718721\n",
      "1498777044917833732\n",
      "271100275\n",
      "1492850517420171269\n",
      "1485095532360044551\n",
      "1498774104052228096\n",
      "949730176245608448\n",
      "417634151\n",
      "1498776201082589192\n",
      "1498778776926314502\n",
      "1430609642246361088\n",
      "1425616222574587908\n",
      "1478647068898074625\n",
      "1498777029021339652\n",
      "1498778380547674112\n",
      "1497529096103862276\n",
      "1093847321564143616\n",
      "1498777995342979080\n",
      "809995323972132864\n",
      "1498776561830580235\n",
      "1498777844738150406\n",
      "1498774802076774401\n",
      "1498777921451921416\n",
      "370747323\n",
      "1326176153497985025\n",
      "1498772763133288453\n",
      "1477329468817555458\n",
      "1498774133760421890\n",
      "1498773797452668928\n",
      "732226504063508481\n",
      "1458122065593122816\n",
      "1497370903344295936\n",
      "1498775759892135937\n",
      "46360301\n",
      "915180721412636673\n",
      "1498774140463034369\n",
      "437764307\n",
      "1487849789643321344\n",
      "1433162791871991812\n",
      "288211614\n",
      "1496089439352754183\n"
     ]
    }
   ],
   "source": [
    "# Replace user ID\n",
    "id = '902926941413453824'\n",
    "\n",
    "users = client.get_users_followers(id=id, user_fields=['profile_image_url'])\n",
    "\n",
    "for user in users.data:\n",
    "    print(user.id)"
   ]
  },
  {
   "cell_type": "code",
   "execution_count": 67,
   "metadata": {},
   "outputs": [
    {
     "name": "stdout",
     "output_type": "stream",
     "text": [
      "https://pbs.twimg.com/profile_images/1010974261102571520/RWLiDFdi_normal.jpg\n",
      "https://pbs.twimg.com/profile_images/1498779903684083712/BGFxtxbC_normal.jpg\n",
      "https://pbs.twimg.com/profile_images/1478425362602336257/5kxRRU0d_normal.jpg\n",
      "https://abs.twimg.com/sticky/default_profile_images/default_profile_normal.png\n",
      "https://pbs.twimg.com/profile_images/1495346223645327362/FMdCbjb4_normal.jpg\n",
      "https://pbs.twimg.com/profile_images/1497624985086697476/kkviz3rN_normal.jpg\n",
      "https://pbs.twimg.com/profile_images/1497446449151619081/CObLQBYA_normal.jpg\n",
      "https://pbs.twimg.com/profile_images/1372529895075581954/jkIYb3pv_normal.jpg\n",
      "https://pbs.twimg.com/profile_images/1498740409597448193/Hpqclaiz_normal.jpg\n",
      "https://pbs.twimg.com/profile_images/1498702358045499395/K46qJv4J_normal.jpg\n"
     ]
    }
   ],
   "source": [
    "# Replace with your own search query\n",
    "query = 'bitcoin'\n",
    "\n",
    "tweets = client.search_recent_tweets(query=query, tweet_fields=['context_annotations', 'created_at'],\n",
    "                                     user_fields=['profile_image_url'], expansions='author_id', max_results=10)\n",
    "\n",
    "# Get users list from the includes object\n",
    "users = {u[\"id\"]: u for u in tweets.includes['users']}\n",
    "\n",
    "for tweet in tweets.data:\n",
    "    if users[tweet.author_id]:\n",
    "        user = users[tweet.author_id]\n",
    "        print(user.profile_image_url)"
   ]
  },
  {
   "cell_type": "code",
   "execution_count": 2,
   "metadata": {},
   "outputs": [],
   "source": [
    "selected_username = \"MMCrypto\""
   ]
  },
  {
   "cell_type": "code",
   "execution_count": 3,
   "metadata": {},
   "outputs": [],
   "source": [
    "popular_twitter_usernames = [\n",
    "    [\"username\", 'id'],\n",
    "    [\"cz_binance\", '902926941413453824'],\n",
    "    [\"MMCrypto\", '904700529988820992'],\n",
    "    [\"aantonop\",'1469101279']\n",
    "    ]"
   ]
  },
  {
   "cell_type": "code",
   "execution_count": 10,
   "metadata": {},
   "outputs": [
    {
     "ename": "NameError",
     "evalue": "name 'cz_binance' is not defined",
     "output_type": "error",
     "traceback": [
      "\u001b[0;31m---------------------------------------------------------------------------\u001b[0m",
      "\u001b[0;31mNameError\u001b[0m                                 Traceback (most recent call last)",
      "\u001b[0;32m<ipython-input-10-edc6f51f7f79>\u001b[0m in \u001b[0;36m<module>\u001b[0;34m\u001b[0m\n\u001b[0;32m----> 1\u001b[0;31m \u001b[0;32mif\u001b[0m \u001b[0mselected_username\u001b[0m \u001b[0;34m==\u001b[0m \u001b[0mcz_binance\u001b[0m\u001b[0;34m:\u001b[0m\u001b[0;34m\u001b[0m\u001b[0;34m\u001b[0m\u001b[0m\n\u001b[0m\u001b[1;32m      2\u001b[0m     \u001b[0mid\u001b[0m \u001b[0;34m=\u001b[0m \u001b[0;34m'902926941413453824'\u001b[0m\u001b[0;34m,\u001b[0m\u001b[0;34m\u001b[0m\u001b[0;34m\u001b[0m\u001b[0m\n\u001b[1;32m      3\u001b[0m \u001b[0;32mif\u001b[0m \u001b[0mselected_username\u001b[0m \u001b[0;34m==\u001b[0m \u001b[0mmmcryto\u001b[0m\u001b[0;34m:\u001b[0m\u001b[0;34m\u001b[0m\u001b[0;34m\u001b[0m\u001b[0m\n\u001b[1;32m      4\u001b[0m     \u001b[0mid\u001b[0m \u001b[0;34m=\u001b[0m \u001b[0;34m'904700529988820992'\u001b[0m\u001b[0;34m,\u001b[0m\u001b[0;34m\u001b[0m\u001b[0;34m\u001b[0m\u001b[0m\n\u001b[1;32m      5\u001b[0m \u001b[0;32melse\u001b[0m\u001b[0;34m:\u001b[0m\u001b[0;34m\u001b[0m\u001b[0;34m\u001b[0m\u001b[0m\n",
      "\u001b[0;31mNameError\u001b[0m: name 'cz_binance' is not defined"
     ]
    }
   ],
   "source": [
    "if selected_username == cz_binance:\n",
    "    id = '902926941413453824',\n",
    "if selected_username == mmcryto:\n",
    "    id = '904700529988820992',\n",
    "else:\n",
    "    id = '1469101279'\n",
    "\n",
    "print(id)"
   ]
  },
  {
   "cell_type": "code",
   "execution_count": 12,
   "metadata": {},
   "outputs": [],
   "source": [
    "  \n",
    "cz_binance = '902926941413453824'\n",
    "mmcrypto = '904700529988820992'\n",
    "aantonop = '1469101279'   \n",
    "        \n",
    "#selected_username = st.sidebar.selectbox(\"SELECT POPULAR TWITTER USERNAMES\", (\"cz_binance\", \"mmcrypto\", \"aantonop\"))\n",
    "#user = client.get_user(username='cz_binance')\n",
    "#user = client.get_user(username='MMCrypto')\n",
    "#user = client.get_user(username='aantonop')\n",
    "\n",
    "selected_username = mmcrypto\n"
   ]
  },
  {
   "cell_type": "code",
   "execution_count": 19,
   "metadata": {},
   "outputs": [
    {
     "name": "stdout",
     "output_type": "stream",
     "text": [
      "904700529988820992\n"
     ]
    }
   ],
   "source": [
    "\n",
    "if selected_username == cz_binance:\n",
    "    id = cz_binance\n",
    "if selected_username == mmcrypto:\n",
    "    id = mmcrypto\n",
    "else:\n",
    "    id = aantonop       \n",
    "print(id)"
   ]
  },
  {
   "cell_type": "code",
   "execution_count": null,
   "metadata": {},
   "outputs": [],
   "source": []
  },
  {
   "cell_type": "code",
   "execution_count": null,
   "metadata": {},
   "outputs": [],
   "source": []
  },
  {
   "cell_type": "code",
   "execution_count": null,
   "metadata": {},
   "outputs": [],
   "source": []
  },
  {
   "cell_type": "code",
   "execution_count": null,
   "metadata": {},
   "outputs": [],
   "source": [
    "auth = tweepy.OAuthHandler(config.TWITTER_ACCESS_TOKEN, config.TWITTER_CONSUMER_SECRET,\n",
    "callback_url)\n",
    "\n",
    "\n",
    "# users = client.get_users(usernames=config.TWITTER_USERNAMES)"
   ]
  },
  {
   "cell_type": "code",
   "execution_count": null,
   "metadata": {},
   "outputs": [],
   "source": []
  },
  {
   "cell_type": "code",
   "execution_count": null,
   "metadata": {},
   "outputs": [],
   "source": []
  },
  {
   "cell_type": "code",
   "execution_count": null,
   "metadata": {},
   "outputs": [],
   "source": []
  },
  {
   "cell_type": "code",
   "execution_count": null,
   "metadata": {},
   "outputs": [],
   "source": [
    "client.get_users_tweets('902926941413453824')"
   ]
  },
  {
   "cell_type": "code",
   "execution_count": null,
   "metadata": {},
   "outputs": [],
   "source": [
    "pop_list = config.TWITTER_USERNAMES\n",
    "client.get_list_tweets(pop_list) "
   ]
  },
  {
   "cell_type": "code",
   "execution_count": null,
   "metadata": {},
   "outputs": [],
   "source": [
    "# Replace with your own search query\n",
    "query = 'covid -is:retweet'\n",
    "\n",
    "tweets = client.search_recent_tweets(query=query, tweet_fields=['context_annotations', 'created_at'],\n",
    "                                     user_fields=['profile_image_url'], expansions='author_id', max_results=100)\n",
    "\n",
    "# Get users list from the includes object\n",
    "users = {u[\"id\"]: u for u in tweets.includes[users]}\n",
    "\n",
    "for tweet in tweets.data:\n",
    "    if users[tweet.author_id]:\n",
    "        user = users[tweet.author_id]\n",
    "        print(user.profile_image_url)"
   ]
  },
  {
   "cell_type": "code",
   "execution_count": null,
   "metadata": {},
   "outputs": [],
   "source": [
    "auth = tweepy.OAuth1UserHandler(\n",
    "   config.TWITTER_CONSUMER_KEY, config.TWITTER_CONSUMER_SECRET,\n",
    "   config.TWITTER_ACCESS_TOKEN, config.TWITTER_ACCESS_TOKEN_SECRET\n",
    ")\n",
    "api = tweepy.API(auth)"
   ]
  },
  {
   "cell_type": "code",
   "execution_count": null,
   "metadata": {},
   "outputs": [],
   "source": [
    "cz = api.get_user(screen_name='Apomplino')"
   ]
  },
  {
   "cell_type": "code",
   "execution_count": 20,
   "metadata": {},
   "outputs": [],
   "source": [
    "coinbase = {'BTC' : {'CoinGeckID' : 'bitcoin'},\n",
    "            'ETH' : {'CoinGeckID' : 'ethereum'}, \n",
    "            'BNB' : {'CoinGeckID' : 'binancecoin'}, \n",
    "            'USDC' : {'CoinGeckID' : 'usd-coin'}, \n",
    "            'XRP' : {'CoinGeckID' : 'ripple'}, \n",
    "            'ADA' : {'CoinGeckID' : 'cardano'}, \n",
    "            'SOL' : {'CoinGeckID' : 'solana'}, \n",
    "            'LUNA' : {'CoinGeckID' : 'terra-luna'}, \n",
    "            'AVAX' : {'CoinGeckID' : 'avalanche-2'}}\n",
    "\n",
    "metaverse = {'MANA' : {'CoinGeckID' : 'decentraland'}, \n",
    "             'SAND' : {'CoinGeckID' : 'the-sandbox'}, \n",
    "             'AXS' : {'CoinGeckID' : 'axie-infinity'}, \n",
    "             'THETA' : {'CoinGeckID' : 'theta-token'}, \n",
    "             'ENJ' : {'CoinGeckID' : 'enjincoin'},\n",
    "             'WEMIX' : {'CoinGeckID' : 'wemix-token'}, \n",
    "             'WAXP' : {'CoinGeckID' : 'wax'}, \n",
    "             'RNDR' : {'CoinGeckID' : 'render-token'}, \n",
    "             'SUSHI' : {'CoinGeckID' : 'sushi'}, \n",
    "             'ONT' : {'CoinGeckID' : 'ontology'}, \n",
    "             'UOS' : {'CoinGeckID' : 'ultra'}, \n",
    "             'PLA' : {'CoinGeckID' : 'playdapp'}, \n",
    "             'CEEK' : {'CoinGeckID' : 'ceek'}, \n",
    "             'CHR' : {'CoinGeckID' : 'chromaway'}}\n",
    "\n",
    "yieldfarm = {'CAKE' : {'CoinGeckID' : 'pancakeswap-token'}, \n",
    "             'AAVE' : {'CoinGeckID' : 'aave'}, \n",
    "             'CRV' : {'CoinGeckID' : 'curve-dao-token'}, \n",
    "             'RLY' : {'CoinGeckID' : 'rally-2'}, \n",
    "             'SNX' : {'CoinGeckID' : 'havven'}, \n",
    "             'SUSHI' : {'CoinGeckID' : 'sushi'}, \n",
    "             'RGT' : {'CoinGeckID' : 'rari-governance-token'}, \n",
    "             'REEF' : {'CoinGeckID' : 'reef-finance'}}\n",
    "\n"
   ]
  },
  {
   "cell_type": "code",
   "execution_count": 22,
   "metadata": {},
   "outputs": [
    {
     "ename": "NameError",
     "evalue": "name 'st' is not defined",
     "output_type": "error",
     "traceback": [
      "\u001b[0;31m---------------------------------------------------------------------------\u001b[0m",
      "\u001b[0;31mNameError\u001b[0m                                 Traceback (most recent call last)",
      "\u001b[0;32m<ipython-input-22-3c0aad3c148f>\u001b[0m in \u001b[0;36m<module>\u001b[0;34m\u001b[0m\n\u001b[1;32m      1\u001b[0m \u001b[0moption\u001b[0m \u001b[0;34m=\u001b[0m \u001b[0;34m'STOCKTWITS'\u001b[0m\u001b[0;34m\u001b[0m\u001b[0;34m\u001b[0m\u001b[0m\n\u001b[0;32m----> 2\u001b[0;31m \u001b[0msymbol\u001b[0m \u001b[0;34m=\u001b[0m \u001b[0mst\u001b[0m\u001b[0;34m.\u001b[0m\u001b[0msidebar\u001b[0m\u001b[0;34m.\u001b[0m\u001b[0mtext_input\u001b[0m\u001b[0;34m(\u001b[0m\u001b[0;34m\"Symbol\"\u001b[0m\u001b[0;34m,\u001b[0m \u001b[0mvalue\u001b[0m\u001b[0;34m=\u001b[0m\u001b[0;34m'nvda'\u001b[0m\u001b[0;34m,\u001b[0m \u001b[0mmax_chars\u001b[0m\u001b[0;34m=\u001b[0m\u001b[0;36m5\u001b[0m\u001b[0;34m)\u001b[0m\u001b[0;34m\u001b[0m\u001b[0;34m\u001b[0m\u001b[0m\n\u001b[0m\u001b[1;32m      3\u001b[0m \u001b[0mr\u001b[0m \u001b[0;34m=\u001b[0m \u001b[0mrequests\u001b[0m\u001b[0;34m.\u001b[0m\u001b[0mget\u001b[0m\u001b[0;34m(\u001b[0m\u001b[0;34mf\"https://api.stockwits.com/api/2/stream/{symbol}/nvda.json\"\u001b[0m\u001b[0;34m)\u001b[0m\u001b[0;34m\u001b[0m\u001b[0;34m\u001b[0m\u001b[0m\n\u001b[1;32m      4\u001b[0m \u001b[0mdata\u001b[0m \u001b[0;34m=\u001b[0m \u001b[0mr\u001b[0m\u001b[0;34m.\u001b[0m\u001b[0mjson\u001b[0m\u001b[0;34m(\u001b[0m\u001b[0;34m)\u001b[0m\u001b[0;34m\u001b[0m\u001b[0;34m\u001b[0m\u001b[0m\n\u001b[1;32m      5\u001b[0m \u001b[0;34m\u001b[0m\u001b[0m\n",
      "\u001b[0;31mNameError\u001b[0m: name 'st' is not defined"
     ]
    }
   ],
   "source": [
    "option = 'STOCKTWITS'\n",
    "symbol = text_input(\"Symbol\", value='nvda', max_chars=5)\n",
    "r = requests.get(f\"https://api.stockwits.com/api/2/stream/{symbol}/nvda.json\")\n",
    "data = r.json()\n",
    "\n",
    "for message in data['messages']:\n",
    "    print(message['user']['avatar_url'])\n",
    "    print(message['user']['username'])\n",
    "    print(message['created_at'])                 \n",
    "    print(message['body'])                                    \n"
   ]
  },
  {
   "cell_type": "code",
   "execution_count": null,
   "metadata": {},
   "outputs": [],
   "source": []
  }
 ],
 "metadata": {
  "kernelspec": {
   "display_name": "Python 3",
   "language": "python",
   "name": "python3"
  },
  "language_info": {
   "codemirror_mode": {
    "name": "ipython",
    "version": 3
   },
   "file_extension": ".py",
   "mimetype": "text/x-python",
   "name": "python",
   "nbconvert_exporter": "python",
   "pygments_lexer": "ipython3",
   "version": "3.7.7"
  }
 },
 "nbformat": 4,
 "nbformat_minor": 4
}

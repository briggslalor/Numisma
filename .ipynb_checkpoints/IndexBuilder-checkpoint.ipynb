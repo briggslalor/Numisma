{
 "cells": [
  {
   "cell_type": "code",
   "execution_count": 8,
   "id": "3cbc82e8-f9f4-4ae4-bc1e-26619b106cfa",
   "metadata": {},
   "outputs": [],
   "source": [
    "import warnings\n",
    "import pandas as pd\n",
    "from datetime import datetime\n",
    "from datetime import date\n",
    "import sqlalchemy as sql\n",
    "from pathlib import Path\n",
    "warnings.filterwarnings('ignore')  # Hide warnings\n",
    "#Library - Project3 \n",
    "import CryptoDownloadData as coinData\n",
    "import CryptoPerfSummary as coinAnalytic\n",
    "import EfficientFrontierCalculator as ef\n",
    "import get_index_data as gp\n",
    "import matplotlib.pyplot as plt\n",
    "#from st_aggrid import AgGrid\n",
    "#DataBase Tables\n",
    "# Database connection string\n",
    "crypto_data_connection_string = 'sqlite:///./Reference/crypto.db'\n",
    "# Database engine\n",
    "crypto_data_engine = sql.create_engine(crypto_data_connection_string, echo=True)\n",
    "'COINBASE_100' #CoinList - symbols\n",
    "'ETF_LIST' #Sample ETF\n",
    "'CRYPTO_PX_HISTORY' #Crypto PX History\n",
    "\n",
    "# If need to repopulate database sqllite, please set refresh = True\n",
    "refresh = False"
   ]
  },
  {
   "cell_type": "code",
   "execution_count": 2,
   "id": "162aad3c-fb94-48f0-b27c-232677d97ac3",
   "metadata": {},
   "outputs": [],
   "source": [
    "# Download all price history for Coin List 100 into CRYPTO_PX_HISTORY\n",
    "# If need to rerun, please change refresh = True\n",
    "if refresh == True:\n",
    "    coinData.create_coinlist100\n",
    "    coinData.create_sampleETF\n",
    "    coinData.drop_table('CRYPTO_PX_HISTORY')\n",
    "    start_date = datetime(2015, 1, 1)\n",
    "    end_date = datetime.today()\n",
    "    coinData.download_px_data_from_COINBASE_100(start_date, end_date)"
   ]
  },
  {
   "cell_type": "code",
   "execution_count": 3,
   "id": "bc25046c-4f90-4cf5-8943-d43f17f7f8bb",
   "metadata": {},
   "outputs": [],
   "source": [
    "farm_coins = gp.get_index_coins('YieldFarmingTokens')\n",
    "\n",
    "meta_coins = gp.get_index_coins('TopMetaverseTokens')\n",
    "\n",
    "coinbase_coins = gp.get_index_coins('Coinbase100')"
   ]
  },
  {
   "cell_type": "code",
   "execution_count": 5,
   "id": "d6de7cc6-cdf1-474c-af0f-5eef4912ece5",
   "metadata": {},
   "outputs": [],
   "source": [
    "farm_prices = gp.get_index_prices('YieldFarmingTokens')\n",
    "\n",
    "meta_prices = gp.get_index_prices('TopMetaverseTokens')\n",
    "\n",
    "coinbase_prices = gp.get_index_prices('Coinbase100')"
   ]
  },
  {
   "cell_type": "code",
   "execution_count": 6,
   "id": "e9f92e36-d881-41ad-80a5-5c53aabadc88",
   "metadata": {},
   "outputs": [],
   "source": [
    "farm_weights = ef.calculate_efficient_frontier(farm_prices)\n",
    "\n",
    "meta_weights = ef.calculate_efficient_frontier(meta_prices)\n",
    "\n",
    "coinbase_weights = ef.calculate_efficient_frontier(coinbase_weights)"
   ]
  },
  {
   "cell_type": "code",
   "execution_count": 9,
   "id": "2adaaedf-5887-49e0-9de8-e36f19cdcd52",
   "metadata": {},
   "outputs": [
    {
     "ename": "AttributeError",
     "evalue": "module 'get_index_data' has no attribute 'get_index_df'",
     "output_type": "error",
     "traceback": [
      "\u001b[0;31m---------------------------------------------------------------------------\u001b[0m",
      "\u001b[0;31mAttributeError\u001b[0m                            Traceback (most recent call last)",
      "\u001b[0;32m<ipython-input-9-040e192fc855>\u001b[0m in \u001b[0;36m<module>\u001b[0;34m\u001b[0m\n\u001b[0;32m----> 1\u001b[0;31m \u001b[0mfarm_df\u001b[0m \u001b[0;34m=\u001b[0m \u001b[0mgp\u001b[0m\u001b[0;34m.\u001b[0m\u001b[0mget_index_df\u001b[0m\u001b[0;34m(\u001b[0m\u001b[0mfarm_coins\u001b[0m\u001b[0;34m,\u001b[0m \u001b[0mfarm_weights\u001b[0m\u001b[0;34m)\u001b[0m\u001b[0;34m\u001b[0m\u001b[0;34m\u001b[0m\u001b[0m\n\u001b[0m",
      "\u001b[0;31mAttributeError\u001b[0m: module 'get_index_data' has no attribute 'get_index_df'"
     ]
    }
   ],
   "source": [
    "farm_df = gp.get_index_df(farm_coins, farm_weights)"
   ]
  },
  {
   "cell_type": "code",
   "execution_count": null,
   "id": "852f4f27-c8fc-4ae4-9c6f-9238438bb4f6",
   "metadata": {},
   "outputs": [],
   "source": []
  }
 ],
 "metadata": {
  "kernelspec": {
   "display_name": "Python 3",
   "language": "python",
   "name": "python3"
  },
  "language_info": {
   "codemirror_mode": {
    "name": "ipython",
    "version": 3
   },
   "file_extension": ".py",
   "mimetype": "text/x-python",
   "name": "python",
   "nbconvert_exporter": "python",
   "pygments_lexer": "ipython3",
   "version": "3.6.13"
  }
 },
 "nbformat": 4,
 "nbformat_minor": 5
}
